{
 "cells": [
  {
   "cell_type": "code",
   "execution_count": 13,
   "id": "c7bb1d7f",
   "metadata": {},
   "outputs": [],
   "source": [
    "from langchain.llms import GooglePalm"
   ]
  },
  {
   "cell_type": "code",
   "execution_count": 19,
   "id": "5cdcf9bb",
   "metadata": {},
   "outputs": [
    {
     "name": "stderr",
     "output_type": "stream",
     "text": [
      "C:\\Users\\ssowmiya\\Anaconda3\\lib\\site-packages\\langchain_core\\_api\\deprecation.py:139: LangChainDeprecationWarning: The method `BaseLLM.__call__` was deprecated in langchain-core 0.1.7 and will be removed in 0.3.0. Use invoke instead.\n",
      "  warn_deprecated(\n"
     ]
    },
    {
     "name": "stdout",
     "output_type": "stream",
     "text": [
      "Google, oh Google,\n",
      "You know everything.\n",
      "From the weather to the news,\n",
      "You've got me covered.\n",
      "\n",
      "You're my search engine,\n",
      "My friend, my guide.\n",
      "You're always there for me,\n",
      "No matter what.\n",
      "\n",
      "I can't imagine my life without you,\n",
      "Google.\n",
      "You're the best thing that's ever happened to me.\n",
      "\n",
      "Thank you for being there for me,\n",
      "Google.\n",
      "I love you.\n"
     ]
    }
   ],
   "source": [
    "api_key = \"your_API_KEY\"\n",
    "llm = GooglePalm(google_api_key = api_key, temperature = 0.2)\n",
    "poem = llm(\"Write a poem on google\")\n",
    "print(poem)"
   ]
  },
  {
   "cell_type": "code",
   "execution_count": 21,
   "id": "12a7bf8e",
   "metadata": {},
   "outputs": [],
   "source": [
    "from langchain.utilities import SQLDatabase"
   ]
  },
  {
   "cell_type": "code",
   "execution_count": 34,
   "id": "9a7635c8",
   "metadata": {},
   "outputs": [],
   "source": [
    "db_user = \"root\"\n",
    "db_pw= \"\"\n",
    "db_host = \"localhost\"\n",
    "db_port = \"3306\"\n",
    "db_name = \"tshirts\"\n",
    "\n",
    "db = SQLDatabase.from_uri(f\"mysql+pymysql://{db_user}:{db_pw}@{db_host}:{db_port}/{db_name}\", sample_rows_in_table_info = 3)"
   ]
  },
  {
   "cell_type": "code",
   "execution_count": 39,
   "id": "181d9ac2",
   "metadata": {},
   "outputs": [],
   "source": [
    "from langchain_experimental.sql import SQLDatabaseChain"
   ]
  },
  {
   "cell_type": "code",
   "execution_count": 43,
   "id": "f1b646d6",
   "metadata": {},
   "outputs": [],
   "source": [
    "db_chain = SQLDatabaseChain.from_llm(llm,db,verbose = True)"
   ]
  },
  {
   "cell_type": "code",
   "execution_count": 44,
   "id": "4ad482ad",
   "metadata": {},
   "outputs": [
    {
     "name": "stderr",
     "output_type": "stream",
     "text": [
      "C:\\Users\\ssowmiya\\Anaconda3\\lib\\site-packages\\langchain_core\\_api\\deprecation.py:139: LangChainDeprecationWarning: The method `Chain.__call__` was deprecated in langchain 0.1.0 and will be removed in 0.3.0. Use invoke instead.\n",
      "  warn_deprecated(\n"
     ]
    },
    {
     "name": "stdout",
     "output_type": "stream",
     "text": [
      "\n",
      "\n",
      "\u001b[1m> Entering new SQLDatabaseChain chain...\u001b[0m\n",
      "How many white t-shirts available\n",
      "SQLQuery:\u001b[32;1m\u001b[1;3mSELECT stock_quantity FROM t_shirts WHERE color = 'White'\u001b[0m\n",
      "SQLResult: \u001b[33;1m\u001b[1;3m[(11,), (77,), (21,), (73,), (19,), (83,), (21,), (72,), (88,), (20,), (21,), (81,), (28,), (99,)]\u001b[0m\n",
      "Answer:\u001b[32;1m\u001b[1;3m11\u001b[0m\n",
      "\u001b[1m> Finished chain.\u001b[0m\n"
     ]
    }
   ],
   "source": [
    "q1 = db_chain(\"How many white t-shirts available\")"
   ]
  },
  {
   "cell_type": "code",
   "execution_count": 45,
   "id": "6f13dc7a",
   "metadata": {},
   "outputs": [
    {
     "name": "stdout",
     "output_type": "stream",
     "text": [
      "\n",
      "\n",
      "\u001b[1m> Entering new SQLDatabaseChain chain...\u001b[0m\n",
      "Can we get all small size tshirts\n",
      "SQLQuery:\u001b[32;1m\u001b[1;3mSELECT * FROM t_shirts WHERE size = 'S'\u001b[0m\n",
      "SQLResult: \u001b[33;1m\u001b[1;3m[(4, 'Adidas', 'White', 'S', 38, 77), (6, 'Levi', 'Black', 'S', 42, 18), (9, 'Levi', 'Red', 'S', 40, 67), (10, 'Adidas', 'Black', 'S', 49, 72), (17, 'Van Huesen', 'Red', 'S', 37, 76), (20, 'Nike', 'White', 'S', 15, 19), (26, 'Nike', 'Black', 'S', 42, 14), (32, 'Adidas', 'Blue', 'S', 31, 99), (36, 'Van Huesen', 'Black', 'S', 14, 52), (46, 'Nike', 'Blue', 'S', 28, 55), (51, 'Adidas', 'Red', 'S', 31, 92), (70, 'Van Huesen', 'Blue', 'S', 13, 78), (88, 'Van Huesen', 'White', 'S', 26, 28)]\u001b[0m\n",
      "Answer:\u001b[32;1m\u001b[1;3m[4, 6, 9, 10, 17, 20, 26, 32, 36, 46, 51, 70, 88]\u001b[0m\n",
      "\u001b[1m> Finished chain.\u001b[0m\n"
     ]
    }
   ],
   "source": [
    "q2 = db_chain(\"Can we get all small size tshirts\")"
   ]
  },
  {
   "cell_type": "code",
   "execution_count": 47,
   "id": "d1ae9493",
   "metadata": {},
   "outputs": [],
   "source": [
    "few_shots = [\n",
    "    {'Question' : \"How many t-shirts do we have left for Nike in XS size and white color?\",\n",
    "     'SQLQuery' : \"SELECT sum(stock_quantity) FROM t_shirts WHERE brand = 'Nike' AND color = 'White' AND size = 'XS'\",\n",
    "     'SQLResult': \"Result of the SQL query\",\n",
    "     'Answer' : \"91\"},\n",
    "    {'Question': \"How much is the total price of the inventory for all S-size t-shirts?\",\n",
    "     'SQLQuery':\"SELECT SUM(price*stock_quantity) FROM t_shirts WHERE size = 'S'\",\n",
    "     'SQLResult': \"Result of the SQL query\",\n",
    "     'Answer': \"22292\"},\n",
    "    {'Question': \"If we have to sell all the Levi’s T-shirts today with discounts applied. How much revenue  our store will generate (post discounts)?\" ,\n",
    "     'SQLQuery' : \"\"\"SELECT sum(a.total_amount * ((100-COALESCE(discounts.pct_discount,0))/100)) as total_revenue from\n",
    "(select sum(price*stock_quantity) as total_amount, t_shirt_id from t_shirts where brand = 'Levi'\n",
    "group by t_shirt_id) a left join discounts on a.t_shirt_id = discounts.t_shirt_id\n",
    " \"\"\",\n",
    "     'SQLResult': \"Result of the SQL query\",\n",
    "     'Answer': \"16725.4\"} ,\n",
    "     {'Question' : \"If we have to sell all the Levi’s T-shirts today. How much revenue our store will generate without discount?\" ,\n",
    "      'SQLQuery': \"SELECT SUM(price * stock_quantity) FROM t_shirts WHERE brand = 'Levi'\",\n",
    "      'SQLResult': \"Result of the SQL query\",\n",
    "      'Answer' : \"17462\"},\n",
    "    {'Question': \"How many white color Levi's shirt I have?\",\n",
    "     'SQLQuery' : \"SELECT sum(stock_quantity) FROM t_shirts WHERE brand = 'Levi' AND color = 'White'\",\n",
    "     'SQLResult': \"Result of the SQL query\",\n",
    "     'Answer' : \"290\"\n",
    "     },\n",
    "    {'Question': \"how much sales amount will be generated if we sell all large size t shirts today in nike brand after discounts?\",\n",
    "     'SQLQuery' : \"\"\"SELECT sum(a.total_amount * ((100-COALESCE(discounts.pct_discount,0))/100)) as total_revenue from\n",
    "(select sum(price*stock_quantity) as total_amount, t_shirt_id from t_shirts where brand = 'Nike' and size=\"L\"\n",
    "group by t_shirt_id) a left join discounts on a.t_shirt_id = discounts.t_shirt_id\n",
    " \"\"\",\n",
    "     'SQLResult': \"Result of the SQL query\",\n",
    "     'Answer' : \"290\"\n",
    "    }\n",
    "]"
   ]
  },
  {
   "cell_type": "code",
   "execution_count": 46,
   "id": "823958fa",
   "metadata": {},
   "outputs": [],
   "source": [
    "from langchain.embeddings import HuggingFaceEmbeddings"
   ]
  },
  {
   "cell_type": "code",
   "execution_count": 59,
   "id": "a42e6f13",
   "metadata": {},
   "outputs": [],
   "source": [
    "embeddings = HuggingFaceEmbeddings(model_name='sentence-transformers/all-MiniLM-L6-v2')\n",
    "e = embeddings.embed_query(\"how many white t-shirt are there in levis brand?\")"
   ]
  },
  {
   "cell_type": "code",
   "execution_count": 61,
   "id": "4cf2d865",
   "metadata": {},
   "outputs": [
    {
     "data": {
      "text/plain": [
       "({\"How many t-shirts do we have left for Nike in XS size and white color? SELECT sum(stock_quantity) FROM t_shirts WHERE brand = 'Nike' AND color = 'White' AND size = 'XS'      Result of the SQL query,      91\"},)"
      ]
     },
     "execution_count": 61,
     "metadata": {},
     "output_type": "execute_result"
    }
   ],
   "source": [
    "{ \"How many t-shirts do we have left for Nike in XS size and white color? SELECT sum(stock_quantity) FROM t_shirts WHERE brand = 'Nike' AND color = 'White' AND size = 'XS'      Result of the SQL query,      91\"},"
   ]
  },
  {
   "cell_type": "code",
   "execution_count": 66,
   "id": "ed43f39a",
   "metadata": {},
   "outputs": [],
   "source": [
    "to_vectorize = [\" \".join(example.values()) for example in few_shots]"
   ]
  },
  {
   "cell_type": "code",
   "execution_count": 69,
   "id": "37be6151",
   "metadata": {},
   "outputs": [],
   "source": [
    "from langchain.vectorstores import Chroma"
   ]
  },
  {
   "cell_type": "code",
   "execution_count": 77,
   "id": "f0147fec",
   "metadata": {},
   "outputs": [],
   "source": [
    "vectorstore = Chroma.from_texts(to_vectorize, embedding=embeddings, metadatas=few_shots)"
   ]
  },
  {
   "cell_type": "code",
   "execution_count": 84,
   "id": "ecf83447",
   "metadata": {},
   "outputs": [],
   "source": [
    "from langchain.prompts import SemanticSimilarityExampleSelector\n",
    "\n",
    "example_selector =SemanticSimilarityExampleSelector(vectorstore = vectorstore, k=2,)\n"
   ]
  },
  {
   "cell_type": "code",
   "execution_count": 86,
   "id": "308ae3e3",
   "metadata": {},
   "outputs": [
    {
     "data": {
      "text/plain": [
       "[{'Answer': '22292',\n",
       "  'Question': 'How much is the total price of the inventory for all S-size t-shirts?',\n",
       "  'SQLQuery': \"SELECT SUM(price*stock_quantity) FROM t_shirts WHERE size = 'S'\",\n",
       "  'SQLResult': 'Result of the SQL query'},\n",
       " {'Answer': '17462',\n",
       "  'Question': 'If we have to sell all the Levi’s T-shirts today. How much revenue our store will generate without discount?',\n",
       "  'SQLQuery': \"SELECT SUM(price * stock_quantity) FROM t_shirts WHERE brand = 'Levi'\",\n",
       "  'SQLResult': 'Result of the SQL query'}]"
      ]
     },
     "execution_count": 86,
     "metadata": {},
     "output_type": "execute_result"
    }
   ],
   "source": [
    "example_selector.select_examples({'Question': \"How much is the total price of the inventory for all S-size t-shirts?\"})"
   ]
  },
  {
   "cell_type": "code",
   "execution_count": 94,
   "id": "184456bc",
   "metadata": {},
   "outputs": [],
   "source": [
    "from langchain.chains.sql_database.prompt import PROMPT_SUFFIX,_mysql_prompt,MYSQL_PROMPT"
   ]
  },
  {
   "cell_type": "code",
   "execution_count": 100,
   "id": "f24f5f5f",
   "metadata": {},
   "outputs": [
    {
     "name": "stdout",
     "output_type": "stream",
     "text": [
      "input_variables=['input', 'table_info', 'top_k'] template='You are a MySQL expert. Given an input question, first create a syntactically correct MySQL query to run, then look at the results of the query and return the answer to the input question.\\nUnless the user specifies in the question a specific number of examples to obtain, query for at most {top_k} results using the LIMIT clause as per MySQL. You can order the results to return the most informative data in the database.\\nNever query for all columns from a table. You must query only the columns that are needed to answer the question. Wrap each column name in backticks (`) to denote them as delimited identifiers.\\nPay attention to use only the column names you can see in the tables below. Be careful to not query for columns that do not exist. Also, pay attention to which column is in which table.\\nPay attention to use CURDATE() function to get the current date, if the question involves \"today\".\\n\\nUse the following format:\\n\\nQuestion: Question here\\nSQLQuery: SQL Query to run\\nSQLResult: Result of the SQLQuery\\nAnswer: Final answer here\\n\\nOnly use the following tables:\\n{table_info}\\n\\nQuestion: {input}'\n"
     ]
    }
   ],
   "source": [
    "print(MYSQL_PROMPT)"
   ]
  },
  {
   "cell_type": "code",
   "execution_count": 102,
   "id": "651802bd",
   "metadata": {},
   "outputs": [],
   "source": [
    "from langchain.prompts.prompt import PromptTemplate\n",
    "ex_prompt = PromptTemplate(inputformat = [\"Question\", \"SQLQuery\", \"SQLResult\", \"Answer\"],\n",
    "              template = \"\\nQuestion: {Question}\\nSQLQuery: {SQLQuery}\\nSQLResult: {SQLResult}\\nAnswer: {Answer}\")\n"
   ]
  },
  {
   "cell_type": "code",
   "execution_count": 103,
   "id": "494d4fb6",
   "metadata": {},
   "outputs": [],
   "source": [
    "from langchain.prompts import FewShotPromptTemplate"
   ]
  },
  {
   "cell_type": "code",
   "execution_count": 106,
   "id": "22cd0b38",
   "metadata": {},
   "outputs": [],
   "source": [
    "fewshot_prompt= FewShotPromptTemplate(\n",
    "example_selector = example_selector,example_prompt=ex_prompt,prefix=_mysql_prompt, suffix=PROMPT_SUFFIX, \n",
    "    input_variables=['input', 'table_info', 'top_k'],\n",
    ")"
   ]
  },
  {
   "cell_type": "code",
   "execution_count": 107,
   "id": "7e0651eb",
   "metadata": {},
   "outputs": [],
   "source": [
    "new_chain = SQLDatabaseChain.from_llm(llm,db,verbose = True, prompt = fewshot_prompt)"
   ]
  },
  {
   "cell_type": "code",
   "execution_count": 115,
   "id": "4676a53c",
   "metadata": {},
   "outputs": [
    {
     "name": "stdout",
     "output_type": "stream",
     "text": [
      "\n",
      "\n",
      "\u001b[1m> Entering new SQLDatabaseChain chain...\u001b[0m\n",
      "How many white levis shirts I have\n",
      "SQLQuery:\u001b[32;1m\u001b[1;3mSELECT stock_quantity FROM t_shirts WHERE brand = 'Levi' AND color = 'White'\u001b[0m\n",
      "SQLResult: \u001b[33;1m\u001b[1;3m[(99,), (88,), (20,), (21,)]\u001b[0m\n",
      "Answer:\u001b[32;1m\u001b[1;3m20\u001b[0m\n",
      "\u001b[1m> Finished chain.\u001b[0m\n"
     ]
    }
   ],
   "source": [
    "q1 = new_chain(\"How many white levis shirts I have\")"
   ]
  },
  {
   "cell_type": "code",
   "execution_count": null,
   "id": "b7b7cf65",
   "metadata": {},
   "outputs": [],
   "source": []
  }
 ],
 "metadata": {
  "kernelspec": {
   "display_name": "Python 3 (ipykernel)",
   "language": "python",
   "name": "python3"
  },
  "language_info": {
   "codemirror_mode": {
    "name": "ipython",
    "version": 3
   },
   "file_extension": ".py",
   "mimetype": "text/x-python",
   "name": "python",
   "nbconvert_exporter": "python",
   "pygments_lexer": "ipython3",
   "version": "3.9.12"
  }
 },
 "nbformat": 4,
 "nbformat_minor": 5
}
